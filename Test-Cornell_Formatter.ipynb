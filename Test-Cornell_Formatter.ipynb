{
  "nbformat": 4,
  "nbformat_minor": 0,
  "metadata": {
    "colab": {
      "name": "Copy of Cornell-Formatter.ipynb",
      "version": "0.3.2",
      "provenance": [],
      "collapsed_sections": [],
      "include_colab_link": true
    },
    "kernelspec": {
      "name": "python3",
      "display_name": "Python 3"
    }
  },
  "cells": [
    {
      "cell_type": "markdown",
      "metadata": {
        "id": "view-in-github",
        "colab_type": "text"
      },
      "source": [
        "<a href=\"https://colab.research.google.com/github/rsThump/Cornell-Formatter-Test/blob/master/Test-Cornell_Formatter.ipynb\" target=\"_parent\"><img src=\"https://colab.research.google.com/assets/colab-badge.svg\" alt=\"Open In Colab\"/></a>"
      ]
    },
    {
      "metadata": {
        "id": "f46P7wXitv1g",
        "colab_type": "code",
        "colab": {
          "base_uri": "https://localhost:8080/",
          "height": 34
        },
        "outputId": "1701d26c-b181-43da-b652-f80942d312c9"
      },
      "cell_type": "code",
      "source": [
        "#import modules\n",
        "import pandas as pd\n",
        "import numpy as np\n",
        "import tensorflow as tf\n",
        "import re\n",
        "import time\n",
        "tf.__version__"
      ],
      "execution_count": 1,
      "outputs": [
        {
          "output_type": "execute_result",
          "data": {
            "text/plain": [
              "'1.12.0'"
            ]
          },
          "metadata": {
            "tags": []
          },
          "execution_count": 1
        }
      ]
    },
    {
      "metadata": {
        "id": "miV6rcvGwfeZ",
        "colab_type": "code",
        "colab": {}
      },
      "cell_type": "code",
      "source": [
        "#!pip install -q textgenrnn\n",
        "from google.colab import files\n",
        "#from textgenrnn import textgenrnn\n",
        "import os"
      ],
      "execution_count": 0,
      "outputs": []
    },
    {
      "metadata": {
        "id": "2ToV8vAbwo9q",
        "colab_type": "code",
        "colab": {
          "base_uri": "https://localhost:8080/",
          "height": 211
        },
        "outputId": "6aee0c78-6531-45b3-9e56-eb08043a6a9b"
      },
      "cell_type": "code",
      "source": [
        "from google.colab import drive\n",
        "drive.mount('/content/gdrive')"
      ],
      "execution_count": 3,
      "outputs": [
        {
          "output_type": "stream",
          "text": [
            "Go to this URL in a browser: https://accounts.google.com/o/oauth2/auth?client_id=947318989803-6bn6qk8qdgf4n4g3pfee6491hc0brc4i.apps.googleusercontent.com&redirect_uri=urn%3Aietf%3Awg%3Aoauth%3A2.0%3Aoob&scope=email%20https%3A%2F%2Fwww.googleapis.com%2Fauth%2Fdocs.test%20https%3A%2F%2Fwww.googleapis.com%2Fauth%2Fdrive%20https%3A%2F%2Fwww.googleapis.com%2Fauth%2Fdrive.photos.readonly%20https%3A%2F%2Fwww.googleapis.com%2Fauth%2Fpeopleapi.readonly&response_type=code\n",
            "\n",
            "Enter your authorization code:\n",
            "··········\n",
            "Mounted at /content/gdrive\n"
          ],
          "name": "stdout"
        }
      ]
    },
    {
      "metadata": {
        "id": "nmyWEPghxC62",
        "colab_type": "code",
        "colab": {}
      },
      "cell_type": "code",
      "source": [
        "#textgen.generate_samples(max_gen_length=5000)\n",
        "#textgen.generate_to_file('/content/gdrive/My Drive/Programming/BotOutput/JR-GPU_Writer-Test4-Output.txt', max_gen_length=5000)\n",
        "\n",
        "#with open('/content/gdrive/My Drive/Programming/BotOutput/JR-GPU_Writer-Test1-Out.txt', 'w') as f:\n",
        "# f.write(str(textgen.generate_samples(max_gen_length=100)))\n",
        "#!cat /content/gdrive/My\\ Drive/foo.txt"
      ],
      "execution_count": 0,
      "outputs": []
    },
    {
      "metadata": {
        "id": "zz3McvHht3Xb",
        "colab_type": "text"
      },
      "cell_type": "markdown",
      "source": [
        "**Inspect & Load Data**"
      ]
    },
    {
      "metadata": {
        "id": "pmPNtObxt2IH",
        "colab_type": "code",
        "colab": {}
      },
      "cell_type": "code",
      "source": [
        "# Load the data\n",
        "lines = open('/content/gdrive/My Drive/Programming/Cornell_Movie_Scripts/movie_lines.txt', encoding='utf-8', errors='ignore').read().split('\\n')\n",
        "conv_lines = open('/content/gdrive/My Drive/Programming/Cornell_Movie_Scripts/movie_conversations.txt', encoding='utf-8', errors='ignore').read().split('\\n')"
      ],
      "execution_count": 0,
      "outputs": []
    },
    {
      "metadata": {
        "id": "qd9nvJXUuBkT",
        "colab_type": "code",
        "colab": {
          "base_uri": "https://localhost:8080/",
          "height": 247
        },
        "outputId": "4ccd1750-329d-408f-a74c-7d6025004151"
      },
      "cell_type": "code",
      "source": [
        "# The sentences that we will be using to train our model.\n",
        "lines[:10]"
      ],
      "execution_count": 5,
      "outputs": [
        {
          "output_type": "execute_result",
          "data": {
            "text/plain": [
              "['L1045 +++$+++ u0 +++$+++ m0 +++$+++ BIANCA +++$+++ They do not!',\n",
              " 'L1044 +++$+++ u2 +++$+++ m0 +++$+++ CAMERON +++$+++ They do to!',\n",
              " 'L985 +++$+++ u0 +++$+++ m0 +++$+++ BIANCA +++$+++ I hope so.',\n",
              " 'L984 +++$+++ u2 +++$+++ m0 +++$+++ CAMERON +++$+++ She okay?',\n",
              " \"L925 +++$+++ u0 +++$+++ m0 +++$+++ BIANCA +++$+++ Let's go.\",\n",
              " 'L924 +++$+++ u2 +++$+++ m0 +++$+++ CAMERON +++$+++ Wow',\n",
              " \"L872 +++$+++ u0 +++$+++ m0 +++$+++ BIANCA +++$+++ Okay -- you're gonna need to learn how to lie.\",\n",
              " 'L871 +++$+++ u2 +++$+++ m0 +++$+++ CAMERON +++$+++ No',\n",
              " 'L870 +++$+++ u0 +++$+++ m0 +++$+++ BIANCA +++$+++ I\\'m kidding.  You know how sometimes you just become this \"persona\"?  And you don\\'t know how to quit?',\n",
              " 'L869 +++$+++ u0 +++$+++ m0 +++$+++ BIANCA +++$+++ Like my fear of wearing pastels?']"
            ]
          },
          "metadata": {
            "tags": []
          },
          "execution_count": 5
        }
      ]
    },
    {
      "metadata": {
        "id": "B6XLPYWxuF4j",
        "colab_type": "code",
        "colab": {
          "base_uri": "https://localhost:8080/",
          "height": 187
        },
        "outputId": "aeced04e-7981-4d85-e0a9-e724f4cb07cb"
      },
      "cell_type": "code",
      "source": [
        "# The sentences' ids, which will be processed to become our input and target data.\n",
        "conv_lines[:10]"
      ],
      "execution_count": 6,
      "outputs": [
        {
          "output_type": "execute_result",
          "data": {
            "text/plain": [
              "[\"u0 +++$+++ u2 +++$+++ m0 +++$+++ ['L194', 'L195', 'L196', 'L197']\",\n",
              " \"u0 +++$+++ u2 +++$+++ m0 +++$+++ ['L198', 'L199']\",\n",
              " \"u0 +++$+++ u2 +++$+++ m0 +++$+++ ['L200', 'L201', 'L202', 'L203']\",\n",
              " \"u0 +++$+++ u2 +++$+++ m0 +++$+++ ['L204', 'L205', 'L206']\",\n",
              " \"u0 +++$+++ u2 +++$+++ m0 +++$+++ ['L207', 'L208']\",\n",
              " \"u0 +++$+++ u2 +++$+++ m0 +++$+++ ['L271', 'L272', 'L273', 'L274', 'L275']\",\n",
              " \"u0 +++$+++ u2 +++$+++ m0 +++$+++ ['L276', 'L277']\",\n",
              " \"u0 +++$+++ u2 +++$+++ m0 +++$+++ ['L280', 'L281']\",\n",
              " \"u0 +++$+++ u2 +++$+++ m0 +++$+++ ['L363', 'L364']\",\n",
              " \"u0 +++$+++ u2 +++$+++ m0 +++$+++ ['L365', 'L366']\"]"
            ]
          },
          "metadata": {
            "tags": []
          },
          "execution_count": 6
        }
      ]
    },
    {
      "metadata": {
        "id": "8oDVYn69uWTD",
        "colab_type": "code",
        "colab": {}
      },
      "cell_type": "code",
      "source": [
        "# Create a dictionary to map each line's id with its text\n",
        "id2line = {}\n",
        "for line in lines:\n",
        "    _line = line.split(' +++$+++ ')\n",
        "    if len(_line) == 5:\n",
        "        id2line[_line[0]] = _line[4]"
      ],
      "execution_count": 0,
      "outputs": []
    },
    {
      "metadata": {
        "id": "wz7hpyF4ubD_",
        "colab_type": "code",
        "colab": {}
      },
      "cell_type": "code",
      "source": [
        "# Create a list of all of the conversations' lines' ids.\n",
        "convs = [ ]\n",
        "for line in conv_lines[:-1]:\n",
        "    _line = line.split(' +++$+++ ')[-1][1:-1].replace(\"'\",\"\").replace(\" \",\"\")\n",
        "    convs.append(_line.split(','))"
      ],
      "execution_count": 0,
      "outputs": []
    },
    {
      "metadata": {
        "id": "pFET4ZSsudxj",
        "colab_type": "code",
        "colab": {
          "base_uri": "https://localhost:8080/",
          "height": 187
        },
        "outputId": "e1d29955-55d0-41e9-92af-97bdd050aaf2"
      },
      "cell_type": "code",
      "source": [
        "convs[:10]"
      ],
      "execution_count": 9,
      "outputs": [
        {
          "output_type": "execute_result",
          "data": {
            "text/plain": [
              "[['L194', 'L195', 'L196', 'L197'],\n",
              " ['L198', 'L199'],\n",
              " ['L200', 'L201', 'L202', 'L203'],\n",
              " ['L204', 'L205', 'L206'],\n",
              " ['L207', 'L208'],\n",
              " ['L271', 'L272', 'L273', 'L274', 'L275'],\n",
              " ['L276', 'L277'],\n",
              " ['L280', 'L281'],\n",
              " ['L363', 'L364'],\n",
              " ['L365', 'L366']]"
            ]
          },
          "metadata": {
            "tags": []
          },
          "execution_count": 9
        }
      ]
    },
    {
      "metadata": {
        "id": "8cIMktw2ugJN",
        "colab_type": "code",
        "colab": {}
      },
      "cell_type": "code",
      "source": [
        "# Sort the sentences into questions (inputs) and answers (targets)\n",
        "questions = []\n",
        "answers = []\n",
        "\n",
        "for conv in convs:\n",
        "    for i in range(len(conv)-1):\n",
        "        questions.append(id2line[conv[i]])\n",
        "        answers.append(id2line[conv[i+1]])"
      ],
      "execution_count": 0,
      "outputs": []
    },
    {
      "metadata": {
        "id": "ZFoaVrSnuh-L",
        "colab_type": "code",
        "colab": {
          "base_uri": "https://localhost:8080/",
          "height": 312
        },
        "outputId": "8aa35452-96f5-4b30-f332-10f8868c9c61"
      },
      "cell_type": "code",
      "source": [
        "# Check if we have loaded the data correctly\n",
        "limit = 0\n",
        "for i in range(limit, limit+5):\n",
        "    print(questions[i])\n",
        "    print(answers[i])\n",
        "    print()"
      ],
      "execution_count": 11,
      "outputs": [
        {
          "output_type": "stream",
          "text": [
            "Can we make this quick?  Roxanne Korrine and Andrew Barrett are having an incredibly horrendous public break- up on the quad.  Again.\n",
            "Well, I thought we'd start with pronunciation, if that's okay with you.\n",
            "\n",
            "Well, I thought we'd start with pronunciation, if that's okay with you.\n",
            "Not the hacking and gagging and spitting part.  Please.\n",
            "\n",
            "Not the hacking and gagging and spitting part.  Please.\n",
            "Okay... then how 'bout we try out some French cuisine.  Saturday?  Night?\n",
            "\n",
            "You're asking me out.  That's so cute. What's your name again?\n",
            "Forget it.\n",
            "\n",
            "No, no, it's my fault -- we didn't have a proper introduction ---\n",
            "Cameron.\n",
            "\n"
          ],
          "name": "stdout"
        }
      ]
    },
    {
      "metadata": {
        "id": "cuVfFIL6ukRN",
        "colab_type": "code",
        "colab": {
          "base_uri": "https://localhost:8080/",
          "height": 51
        },
        "outputId": "ceb78614-3286-427b-f258-c9c244a55855"
      },
      "cell_type": "code",
      "source": [
        "# Compare lengths of questions and answers\n",
        "print(len(questions))\n",
        "print(len(answers))"
      ],
      "execution_count": 12,
      "outputs": [
        {
          "output_type": "stream",
          "text": [
            "221616\n",
            "221616\n"
          ],
          "name": "stdout"
        }
      ]
    },
    {
      "metadata": {
        "id": "-IZ-0u7uunJt",
        "colab_type": "code",
        "colab": {}
      },
      "cell_type": "code",
      "source": [
        "def clean_text(text):\n",
        "    '''Clean text by removing unnecessary characters and altering the format of words.'''\n",
        "\n",
        "    text = text.lower()\n",
        "    \n",
        "    text = re.sub(r\"i'm\", \"i am\", text)\n",
        "    text = re.sub(r\"he's\", \"he is\", text)\n",
        "    text = re.sub(r\"she's\", \"she is\", text)\n",
        "    text = re.sub(r\"it's\", \"it is\", text)\n",
        "    text = re.sub(r\"that's\", \"that is\", text)\n",
        "    text = re.sub(r\"what's\", \"that is\", text)\n",
        "    text = re.sub(r\"where's\", \"where is\", text)\n",
        "    text = re.sub(r\"how's\", \"how is\", text)\n",
        "    text = re.sub(r\"\\'ll\", \" will\", text)\n",
        "    text = re.sub(r\"\\'ve\", \" have\", text)\n",
        "    text = re.sub(r\"\\'re\", \" are\", text)\n",
        "    text = re.sub(r\"\\'d\", \" would\", text)\n",
        "    text = re.sub(r\"\\'re\", \" are\", text)\n",
        "    text = re.sub(r\"won't\", \"will not\", text)\n",
        "    text = re.sub(r\"can't\", \"cannot\", text)\n",
        "    text = re.sub(r\"n't\", \" not\", text)\n",
        "    text = re.sub(r\"n'\", \"ng\", text)\n",
        "    text = re.sub(r\"'bout\", \"about\", text)\n",
        "    text = re.sub(r\"'til\", \"until\", text)\n",
        "    text = re.sub(r\"[-()\\\"#/@;:<>{}`+=~|.!?,]\", \"\", text)\n",
        "    \n",
        "    return text"
      ],
      "execution_count": 0,
      "outputs": []
    },
    {
      "metadata": {
        "id": "oRLomBGLupqi",
        "colab_type": "code",
        "colab": {}
      },
      "cell_type": "code",
      "source": [
        "# Clean the data\n",
        "clean_questions = []\n",
        "for question in questions:\n",
        "    clean_questions.append(clean_text(question))\n",
        "    \n",
        "clean_answers = []    \n",
        "for answer in answers:\n",
        "    clean_answers.append(clean_text(answer))"
      ],
      "execution_count": 0,
      "outputs": []
    },
    {
      "metadata": {
        "id": "GuvvyInVuugW",
        "colab_type": "code",
        "colab": {
          "base_uri": "https://localhost:8080/",
          "height": 312
        },
        "outputId": "ca42a5ca-3bd5-4222-c91c-21e1f8704f63"
      },
      "cell_type": "code",
      "source": [
        "# Take a look at some of the data to ensure that it has been cleaned well.\n",
        "limit = 0\n",
        "for i in range(limit, limit+5):\n",
        "    print(clean_questions[i])\n",
        "    print(clean_answers[i])\n",
        "    print()"
      ],
      "execution_count": 15,
      "outputs": [
        {
          "output_type": "stream",
          "text": [
            "can we make this quick  roxanne korrine and andrew barrett are having an incredibly horrendous public break up on the quad  again\n",
            "well i thought we would start with pronunciation if that is okay with you\n",
            "\n",
            "well i thought we would start with pronunciation if that is okay with you\n",
            "not the hacking and gagging and spitting part  please\n",
            "\n",
            "not the hacking and gagging and spitting part  please\n",
            "okay then how about we try out some french cuisine  saturday  night\n",
            "\n",
            "you are asking me out  that is so cute that is your name again\n",
            "forget it\n",
            "\n",
            "no no it is my fault  we did not have a proper introduction \n",
            "cameron\n",
            "\n"
          ],
          "name": "stdout"
        }
      ]
    },
    {
      "metadata": {
        "id": "7uDu_bxkuxnn",
        "colab_type": "code",
        "colab": {}
      },
      "cell_type": "code",
      "source": [
        "# Find the length of sentences\n",
        "lengths = []\n",
        "for question in clean_questions:\n",
        "    lengths.append(len(question.split()))\n",
        "for answer in clean_answers:\n",
        "    lengths.append(len(answer.split()))\n",
        "\n",
        "# Create a dataframe so that the values can be inspected\n",
        "lengths = pd.DataFrame(lengths, columns=['counts'])"
      ],
      "execution_count": 0,
      "outputs": []
    },
    {
      "metadata": {
        "id": "XTzuYb7Ju0FH",
        "colab_type": "code",
        "colab": {
          "base_uri": "https://localhost:8080/",
          "height": 297
        },
        "outputId": "ab3a3b89-ad0e-4e61-f326-6d1ac424f4f0"
      },
      "cell_type": "code",
      "source": [
        "lengths.describe()"
      ],
      "execution_count": 17,
      "outputs": [
        {
          "output_type": "execute_result",
          "data": {
            "text/html": [
              "<div>\n",
              "<style scoped>\n",
              "    .dataframe tbody tr th:only-of-type {\n",
              "        vertical-align: middle;\n",
              "    }\n",
              "\n",
              "    .dataframe tbody tr th {\n",
              "        vertical-align: top;\n",
              "    }\n",
              "\n",
              "    .dataframe thead th {\n",
              "        text-align: right;\n",
              "    }\n",
              "</style>\n",
              "<table border=\"1\" class=\"dataframe\">\n",
              "  <thead>\n",
              "    <tr style=\"text-align: right;\">\n",
              "      <th></th>\n",
              "      <th>counts</th>\n",
              "    </tr>\n",
              "  </thead>\n",
              "  <tbody>\n",
              "    <tr>\n",
              "      <th>count</th>\n",
              "      <td>443232.000000</td>\n",
              "    </tr>\n",
              "    <tr>\n",
              "      <th>mean</th>\n",
              "      <td>10.872094</td>\n",
              "    </tr>\n",
              "    <tr>\n",
              "      <th>std</th>\n",
              "      <td>12.215895</td>\n",
              "    </tr>\n",
              "    <tr>\n",
              "      <th>min</th>\n",
              "      <td>0.000000</td>\n",
              "    </tr>\n",
              "    <tr>\n",
              "      <th>25%</th>\n",
              "      <td>4.000000</td>\n",
              "    </tr>\n",
              "    <tr>\n",
              "      <th>50%</th>\n",
              "      <td>7.000000</td>\n",
              "    </tr>\n",
              "    <tr>\n",
              "      <th>75%</th>\n",
              "      <td>14.000000</td>\n",
              "    </tr>\n",
              "    <tr>\n",
              "      <th>max</th>\n",
              "      <td>555.000000</td>\n",
              "    </tr>\n",
              "  </tbody>\n",
              "</table>\n",
              "</div>"
            ],
            "text/plain": [
              "              counts\n",
              "count  443232.000000\n",
              "mean       10.872094\n",
              "std        12.215895\n",
              "min         0.000000\n",
              "25%         4.000000\n",
              "50%         7.000000\n",
              "75%        14.000000\n",
              "max       555.000000"
            ]
          },
          "metadata": {
            "tags": []
          },
          "execution_count": 17
        }
      ]
    },
    {
      "metadata": {
        "id": "6N7MjI-bu4A7",
        "colab_type": "code",
        "colab": {
          "base_uri": "https://localhost:8080/",
          "height": 102
        },
        "outputId": "d65338eb-3cb4-491c-e933-9f760aaa087e"
      },
      "cell_type": "code",
      "source": [
        "print(np.percentile(lengths, 80))\n",
        "print(np.percentile(lengths, 85))\n",
        "print(np.percentile(lengths, 90))\n",
        "print(np.percentile(lengths, 95))\n",
        "print(np.percentile(lengths, 99))\n"
      ],
      "execution_count": 18,
      "outputs": [
        {
          "output_type": "stream",
          "text": [
            "16.0\n",
            "19.0\n",
            "24.0\n",
            "32.0\n",
            "58.0\n"
          ],
          "name": "stdout"
        }
      ]
    },
    {
      "metadata": {
        "id": "xD62GCMHu6z0",
        "colab_type": "code",
        "colab": {}
      },
      "cell_type": "code",
      "source": [
        "# Remove questions and answers that are shorter than 2 words and longer than 20 words.\n",
        "min_line_length = 2\n",
        "max_line_length = 20\n",
        "\n",
        "# Filter out the questions that are too short/long\n",
        "short_questions_temp = []\n",
        "short_answers_temp = []\n",
        "\n",
        "i = 0\n",
        "for question in clean_questions:\n",
        "    if len(question.split()) >= min_line_length and len(question.split()) <= max_line_length:\n",
        "        short_questions_temp.append(question)\n",
        "        short_answers_temp.append(clean_answers[i])\n",
        "    i += 1\n",
        "\n",
        "# Filter out the answers that are too short/long\n",
        "short_questions = []\n",
        "short_answers = []\n",
        "\n",
        "i = 0\n",
        "for answer in short_answers_temp:\n",
        "    if len(answer.split()) >= min_line_length and len(answer.split()) <= max_line_length:\n",
        "        short_answers.append(answer)\n",
        "        short_questions.append(short_questions_temp[i])\n",
        "    i += 1"
      ],
      "execution_count": 0,
      "outputs": []
    },
    {
      "metadata": {
        "id": "q3dQQR9Hu-N1",
        "colab_type": "code",
        "colab": {
          "base_uri": "https://localhost:8080/",
          "height": 68
        },
        "outputId": "ec1c1caa-8a45-47f8-b09f-e589accd5bba"
      },
      "cell_type": "code",
      "source": [
        "# Compare the number of lines we will use with the total number of lines.\n",
        "print(\"# of questions:\", len(short_questions))\n",
        "print(\"# of answers:\", len(short_answers))\n",
        "print(\"% of data used: {}%\".format(round(len(short_questions)/len(questions),4)*100))"
      ],
      "execution_count": 20,
      "outputs": [
        {
          "output_type": "stream",
          "text": [
            "# of questions: 138335\n",
            "# of answers: 138335\n",
            "% of data used: 62.419999999999995%\n"
          ],
          "name": "stdout"
        }
      ]
    },
    {
      "metadata": {
        "id": "l9f9jL_DvBdk",
        "colab_type": "code",
        "colab": {}
      },
      "cell_type": "code",
      "source": [
        "# Create a dictionary for the frequency of the vocabulary\n",
        "vocab = {}\n",
        "for question in short_questions:\n",
        "    for word in question.split():\n",
        "        if word not in vocab:\n",
        "            vocab[word] = 1\n",
        "        else:\n",
        "            vocab[word] += 1\n",
        "            \n",
        "for answer in short_answers:\n",
        "    for word in answer.split():\n",
        "        if word not in vocab:\n",
        "            vocab[word] = 1\n",
        "        else:\n",
        "            vocab[word] += 1"
      ],
      "execution_count": 0,
      "outputs": []
    },
    {
      "metadata": {
        "id": "LWgnNhBfvDy_",
        "colab_type": "code",
        "colab": {}
      },
      "cell_type": "code",
      "source": [
        "# Remove rare words from the vocabulary.\n",
        "# We will aim to replace fewer than 5% of words with <UNK>\n",
        "# You will see this ratio soon.\n",
        "threshold = 10\n",
        "count = 0\n",
        "for k,v in vocab.items():\n",
        "    if v >= threshold:\n",
        "        count += 1"
      ],
      "execution_count": 0,
      "outputs": []
    },
    {
      "metadata": {
        "id": "39XB4kB0vFpe",
        "colab_type": "code",
        "colab": {
          "base_uri": "https://localhost:8080/",
          "height": 51
        },
        "outputId": "5b26d8b2-ef4f-44fa-af93-2a756dc0b435"
      },
      "cell_type": "code",
      "source": [
        "print(\"Size of total vocab:\", len(vocab))\n",
        "print(\"Size of vocab we will use:\", count)"
      ],
      "execution_count": 23,
      "outputs": [
        {
          "output_type": "stream",
          "text": [
            "Size of total vocab: 45618\n",
            "Size of vocab we will use: 8092\n"
          ],
          "name": "stdout"
        }
      ]
    },
    {
      "metadata": {
        "id": "fHYX18yDvId9",
        "colab_type": "code",
        "colab": {}
      },
      "cell_type": "code",
      "source": [
        "# In case we want to use a different vocabulary sizes for the source and target text, \n",
        "# we can set different threshold values.\n",
        "# Nonetheless, we will create dictionaries to provide a unique integer for each word.\n",
        "questions_vocab_to_int = {}\n",
        "\n",
        "word_num = 0\n",
        "for word, count in vocab.items():\n",
        "    if count >= threshold:\n",
        "        questions_vocab_to_int[word] = word_num\n",
        "        word_num += 1\n",
        "        \n",
        "answers_vocab_to_int = {}\n",
        "\n",
        "word_num = 0\n",
        "for word, count in vocab.items():\n",
        "    if count >= threshold:\n",
        "        answers_vocab_to_int[word] = word_num\n",
        "        word_num += 1"
      ],
      "execution_count": 0,
      "outputs": []
    },
    {
      "metadata": {
        "id": "2EKD-7rlvLVo",
        "colab_type": "code",
        "colab": {}
      },
      "cell_type": "code",
      "source": [
        "# Add the unique tokens to the vocabulary dictionaries.\n",
        "codes = ['<PAD>','<EOS>','<UNK>','<GO>']\n",
        "\n",
        "for code in codes:\n",
        "    questions_vocab_to_int[code] = len(questions_vocab_to_int)+1\n",
        "    \n",
        "for code in codes:\n",
        "    answers_vocab_to_int[code] = len(answers_vocab_to_int)+1"
      ],
      "execution_count": 0,
      "outputs": []
    },
    {
      "metadata": {
        "id": "rrfBwTd5vNa7",
        "colab_type": "code",
        "colab": {}
      },
      "cell_type": "code",
      "source": [
        "# Create dictionaries to map the unique integers to their respective words.\n",
        "# i.e. an inverse dictionary for vocab_to_int.\n",
        "questions_int_to_vocab = {v_i: v for v, v_i in questions_vocab_to_int.items()}\n",
        "answers_int_to_vocab = {v_i: v for v, v_i in answers_vocab_to_int.items()}"
      ],
      "execution_count": 0,
      "outputs": []
    },
    {
      "metadata": {
        "id": "OWBbpOrhvPIn",
        "colab_type": "code",
        "colab": {
          "base_uri": "https://localhost:8080/",
          "height": 85
        },
        "outputId": "da1aeeec-373c-4598-f5cc-389d9a872c3f"
      },
      "cell_type": "code",
      "source": [
        "# Check the length of the dictionaries.\n",
        "print(len(questions_vocab_to_int))\n",
        "print(len(questions_int_to_vocab))\n",
        "print(len(answers_vocab_to_int))\n",
        "print(len(answers_int_to_vocab))\n"
      ],
      "execution_count": 27,
      "outputs": [
        {
          "output_type": "stream",
          "text": [
            "8096\n",
            "8096\n",
            "8096\n",
            "8096\n"
          ],
          "name": "stdout"
        }
      ]
    },
    {
      "metadata": {
        "id": "jktYWWFSvRWq",
        "colab_type": "code",
        "colab": {}
      },
      "cell_type": "code",
      "source": [
        "# Add the end of sentence token to the end of every answer.\n",
        "for i in range(len(short_answers)):\n",
        "    short_answers[i] += ' <EOS>'"
      ],
      "execution_count": 0,
      "outputs": []
    },
    {
      "metadata": {
        "id": "Qq3PaBQuvTmz",
        "colab_type": "code",
        "colab": {}
      },
      "cell_type": "code",
      "source": [
        "# Convert the text to integers. \n",
        "# Replace any words that are not in the respective vocabulary with <UNK> \n",
        "questions_int = []\n",
        "for question in short_questions:\n",
        "    ints = []\n",
        "    for word in question.split():\n",
        "        if word not in questions_vocab_to_int:\n",
        "            ints.append(questions_vocab_to_int['<UNK>'])\n",
        "        else:\n",
        "            ints.append(questions_vocab_to_int[word])\n",
        "    questions_int.append(ints)\n",
        "    \n",
        "answers_int = []\n",
        "for answer in short_answers:\n",
        "    ints = []\n",
        "    for word in answer.split():\n",
        "        if word not in answers_vocab_to_int:\n",
        "            ints.append(answers_vocab_to_int['<UNK>'])\n",
        "        else:\n",
        "            ints.append(answers_vocab_to_int[word])\n",
        "    answers_int.append(ints)"
      ],
      "execution_count": 0,
      "outputs": []
    },
    {
      "metadata": {
        "id": "vxZJyFAKvWCK",
        "colab_type": "code",
        "colab": {
          "base_uri": "https://localhost:8080/",
          "height": 51
        },
        "outputId": "5ffadc85-1686-4271-bd6d-4c2e15fa36bf"
      },
      "cell_type": "code",
      "source": [
        "# Check the lengths\n",
        "print(len(questions_int))\n",
        "print(len(answers_int))"
      ],
      "execution_count": 30,
      "outputs": [
        {
          "output_type": "stream",
          "text": [
            "138335\n",
            "138335\n"
          ],
          "name": "stdout"
        }
      ]
    },
    {
      "metadata": {
        "id": "GOkr0lF3vZ4V",
        "colab_type": "code",
        "colab": {
          "base_uri": "https://localhost:8080/",
          "height": 68
        },
        "outputId": "d4451d0c-c20d-4d48-d729-083e9d6d80b3"
      },
      "cell_type": "code",
      "source": [
        "# Calculate what percentage of all words have been replaced with <UNK>\n",
        "word_count = 0\n",
        "unk_count = 0\n",
        "\n",
        "for question in questions_int:\n",
        "    for word in question:\n",
        "        if word == questions_vocab_to_int[\"<UNK>\"]:\n",
        "            unk_count += 1\n",
        "        word_count += 1\n",
        "    \n",
        "for answer in answers_int:\n",
        "    for word in answer:\n",
        "        if word == answers_vocab_to_int[\"<UNK>\"]:\n",
        "            unk_count += 1\n",
        "        word_count += 1\n",
        "    \n",
        "unk_ratio = round(unk_count/word_count,4)*100\n",
        "    \n",
        "print(\"Total number of words:\", word_count)\n",
        "print(\"Number of times <UNK> is used:\", unk_count)\n",
        "print(\"Percent of words that are <UNK>: {}%\".format(round(unk_ratio,3)))"
      ],
      "execution_count": 31,
      "outputs": [
        {
          "output_type": "stream",
          "text": [
            "Total number of words: 2334533\n",
            "Number of times <UNK> is used: 92436\n",
            "Percent of words that are <UNK>: 3.96%\n"
          ],
          "name": "stdout"
        }
      ]
    },
    {
      "metadata": {
        "id": "G2kPItnIvcg6",
        "colab_type": "code",
        "colab": {
          "base_uri": "https://localhost:8080/",
          "height": 221
        },
        "outputId": "a35bbf08-6e4f-400d-8108-f43976ae2168"
      },
      "cell_type": "code",
      "source": [
        "# Sort questions and answers by the length of questions.\n",
        "# This will reduce the amount of padding during training\n",
        "# Which should speed up training and help to reduce the loss\n",
        "\n",
        "sorted_questions = []\n",
        "sorted_answers = []\n",
        "\n",
        "for length in range(1, max_line_length+1):\n",
        "    for i in enumerate(questions_int):\n",
        "        if len(i[1]) == length:\n",
        "            sorted_questions.append(questions_int[i[0]])\n",
        "            sorted_answers.append(answers_int[i[0]])\n",
        "\n",
        "print(len(sorted_questions))\n",
        "print(len(sorted_answers))\n",
        "print()\n",
        "for i in range(3):\n",
        "    print(sorted_questions[i])\n",
        "    print(sorted_answers[i])\n",
        "    print()"
      ],
      "execution_count": 32,
      "outputs": [
        {
          "output_type": "stream",
          "text": [
            "138335\n",
            "138335\n",
            "\n",
            "[58, 48]\n",
            "[1, 59, 59, 59, 60, 61, 62, 1, 63, 12, 64, 36, 65, 66, 8094]\n",
            "\n",
            "[1, 84]\n",
            "[11, 192, 174, 55, 61, 21, 6, 8095, 159, 11, 8094]\n",
            "\n",
            "[0, 85]\n",
            "[153, 8, 9, 165, 11, 467, 55, 271, 8094]\n",
            "\n"
          ],
          "name": "stdout"
        }
      ]
    },
    {
      "metadata": {
        "id": "EYe8sG8gvfX6",
        "colab_type": "code",
        "colab": {}
      },
      "cell_type": "code",
      "source": [
        "def model_inputs():\n",
        "    '''Create palceholders for inputs to the model'''\n",
        "    input_data = tf.placeholder(tf.int32, [None, None], name='input')\n",
        "    targets = tf.placeholder(tf.int32, [None, None], name='targets')\n",
        "    lr = tf.placeholder(tf.float32, name='learning_rate')\n",
        "    keep_prob = tf.placeholder(tf.float32, name='keep_prob')\n",
        "\n",
        "    return input_data, targets, lr, keep_prob"
      ],
      "execution_count": 0,
      "outputs": []
    },
    {
      "metadata": {
        "id": "4EheebXbvhU-",
        "colab_type": "code",
        "colab": {}
      },
      "cell_type": "code",
      "source": [
        "def process_encoding_input(target_data, vocab_to_int, batch_size):\n",
        "    '''Remove the last word id from each batch and concat the <GO> to the begining of each batch'''\n",
        "    ending = tf.strided_slice(target_data, [0, 0], [batch_size, -1], [1, 1])\n",
        "    dec_input = tf.concat([tf.fill([batch_size, 1], vocab_to_int['<GO>']), ending], 1)\n",
        "\n",
        "    return dec_input"
      ],
      "execution_count": 0,
      "outputs": []
    },
    {
      "metadata": {
        "id": "hsOV89ELvjU6",
        "colab_type": "code",
        "colab": {}
      },
      "cell_type": "code",
      "source": [
        "def encoding_layer(rnn_inputs, rnn_size, num_layers, keep_prob, sequence_length):\n",
        "    '''Create the encoding layer'''\n",
        "    lstm = tf.contrib.rnn.BasicLSTMCell(rnn_size)\n",
        "    drop = tf.contrib.rnn.DropoutWrapper(lstm, input_keep_prob = keep_prob)\n",
        "    enc_cell = tf.contrib.rnn.MultiRNNCell([drop] * num_layers)\n",
        "    _, enc_state = tf.nn.bidirectional_dynamic_rnn(cell_fw = enc_cell,\n",
        "                                                   cell_bw = enc_cell,\n",
        "                                                   sequence_length = sequence_length,\n",
        "                                                   inputs = rnn_inputs, \n",
        "                                                   dtype=tf.float32)\n",
        "    return enc_state"
      ],
      "execution_count": 0,
      "outputs": []
    },
    {
      "metadata": {
        "id": "d_pl1i3Xvl-N",
        "colab_type": "code",
        "colab": {}
      },
      "cell_type": "code",
      "source": [
        "def decoding_layer_train(encoder_state, dec_cell, dec_embed_input, sequence_length, decoding_scope,\n",
        "                         output_fn, keep_prob, batch_size):\n",
        "    '''Decode the training data'''\n",
        "    \n",
        "    attention_states = tf.zeros([batch_size, 1, dec_cell.output_size])\n",
        "    \n",
        "    att_keys, att_vals, att_score_fn, att_construct_fn = \\\n",
        "            tf.contrib.seq2seq.prepare_attention(attention_states,\n",
        "                                                 attention_option=\"bahdanau\",\n",
        "                                                 num_units=dec_cell.output_size)\n",
        "    \n",
        "    train_decoder_fn = tf.contrib.seq2seq.attention_decoder_fn_train(encoder_state[0],\n",
        "                                                                     att_keys,\n",
        "                                                                     att_vals,\n",
        "                                                                     att_score_fn,\n",
        "                                                                     att_construct_fn,\n",
        "                                                                     name = \"attn_dec_train\")\n",
        "    train_pred, _, _ = tf.contrib.seq2seq.dynamic_rnn_decoder(dec_cell, \n",
        "                                                              train_decoder_fn, \n",
        "                                                              dec_embed_input, \n",
        "                                                              sequence_length, \n",
        "                                                              scope=decoding_scope)\n",
        "    train_pred_drop = tf.nn.dropout(train_pred, keep_prob)\n",
        "    return output_fn(train_pred_drop)"
      ],
      "execution_count": 0,
      "outputs": []
    },
    {
      "metadata": {
        "id": "OD9SCXB-vpGb",
        "colab_type": "code",
        "colab": {}
      },
      "cell_type": "code",
      "source": [
        "def decoding_layer_infer(encoder_state, dec_cell, dec_embeddings, start_of_sequence_id, end_of_sequence_id,\n",
        "                         maximum_length, vocab_size, decoding_scope, output_fn, keep_prob, batch_size):\n",
        "    '''Decode the prediction data'''\n",
        "    \n",
        "    attention_states = tf.zeros([batch_size, 1, dec_cell.output_size])\n",
        "    \n",
        "    att_keys, att_vals, att_score_fn, att_construct_fn = \\\n",
        "            tf.contrib.seq2seq.prepare_attention(attention_states,\n",
        "                                                 attention_option=\"bahdanau\",\n",
        "                                                 num_units=dec_cell.output_size)\n",
        "    \n",
        "    infer_decoder_fn = tf.contrib.seq2seq.attention_decoder_fn_inference(output_fn, \n",
        "                                                                         encoder_state[0], \n",
        "                                                                         att_keys, \n",
        "                                                                         att_vals, \n",
        "                                                                         att_score_fn, \n",
        "                                                                         att_construct_fn, \n",
        "                                                                         dec_embeddings,\n",
        "                                                                         start_of_sequence_id, \n",
        "                                                                         end_of_sequence_id, \n",
        "                                                                         maximum_length, \n",
        "                                                                         vocab_size, \n",
        "                                                                         name = \"attn_dec_inf\")\n",
        "    infer_logits, _, _ = tf.contrib.seq2seq.dynamic_rnn_decoder(dec_cell, \n",
        "                                                                infer_decoder_fn, \n",
        "                                                                scope=decoding_scope)\n",
        "    \n",
        "    return infer_logits"
      ],
      "execution_count": 0,
      "outputs": []
    },
    {
      "metadata": {
        "id": "BteCJbmrvsuO",
        "colab_type": "code",
        "colab": {}
      },
      "cell_type": "code",
      "source": [
        "def decoding_layer(dec_embed_input, dec_embeddings, encoder_state, vocab_size, sequence_length, rnn_size,\n",
        "                   num_layers, vocab_to_int, keep_prob, batch_size):\n",
        "    '''Create the decoding cell and input the parameters for the training and inference decoding layers'''\n",
        "    \n",
        "    with tf.variable_scope(\"decoding\") as decoding_scope:\n",
        "        lstm = tf.contrib.rnn.BasicLSTMCell(rnn_size)\n",
        "        drop = tf.contrib.rnn.DropoutWrapper(lstm, input_keep_prob = keep_prob)\n",
        "        dec_cell = tf.contrib.rnn.MultiRNNCell([drop] * num_layers)\n",
        "        \n",
        "        weights = tf.truncated_normal_initializer(stddev=0.1)\n",
        "        biases = tf.zeros_initializer()\n",
        "        output_fn = lambda x: tf.contrib.layers.fully_connected(x, \n",
        "                                                                vocab_size, \n",
        "                                                                None, \n",
        "                                                                scope=decoding_scope,\n",
        "                                                                weights_initializer = weights,\n",
        "                                                                biases_initializer = biases)\n",
        "\n",
        "        train_logits = decoding_layer_train(encoder_state, \n",
        "                                            dec_cell, \n",
        "                                            dec_embed_input, \n",
        "                                            sequence_length, \n",
        "                                            decoding_scope, \n",
        "                                            output_fn, \n",
        "                                            keep_prob, \n",
        "                                            batch_size)\n",
        "        decoding_scope.reuse_variables()\n",
        "        infer_logits = decoding_layer_infer(encoder_state, \n",
        "                                            dec_cell, \n",
        "                                            dec_embeddings, \n",
        "                                            vocab_to_int['<GO>'],\n",
        "                                            vocab_to_int['<EOS>'], \n",
        "                                            sequence_length - 1, \n",
        "                                            vocab_size,\n",
        "                                            decoding_scope, \n",
        "                                            output_fn, keep_prob, \n",
        "                                            batch_size)\n",
        "\n",
        "    return train_logits, infer_logits"
      ],
      "execution_count": 0,
      "outputs": []
    },
    {
      "metadata": {
        "id": "EPZUy2ufvwRZ",
        "colab_type": "code",
        "colab": {}
      },
      "cell_type": "code",
      "source": [
        "def seq2seq_model(input_data, target_data, keep_prob, batch_size, sequence_length, answers_vocab_size, \n",
        "                  questions_vocab_size, enc_embedding_size, dec_embedding_size, rnn_size, num_layers, \n",
        "                  questions_vocab_to_int):\n",
        "    \n",
        "    '''Use the previous functions to create the training and inference logits'''\n",
        "    \n",
        "    enc_embed_input = tf.contrib.layers.embed_sequence(input_data, \n",
        "                                                       answers_vocab_size+1, \n",
        "                                                       enc_embedding_size,\n",
        "                                                       initializer = tf.random_uniform_initializer(0,1))\n",
        "    enc_state = encoding_layer(enc_embed_input, rnn_size, num_layers, keep_prob, sequence_length)\n",
        "\n",
        "    dec_input = process_encoding_input(target_data, questions_vocab_to_int, batch_size)\n",
        "    dec_embeddings = tf.Variable(tf.random_uniform([questions_vocab_size+1, dec_embedding_size], 0, 1))\n",
        "    dec_embed_input = tf.nn.embedding_lookup(dec_embeddings, dec_input)\n",
        "    \n",
        "    train_logits, infer_logits = decoding_layer(dec_embed_input, \n",
        "                                                dec_embeddings, \n",
        "                                                enc_state, \n",
        "                                                questions_vocab_size, \n",
        "                                                sequence_length, \n",
        "                                                rnn_size, \n",
        "                                                num_layers, \n",
        "                                                questions_vocab_to_int, \n",
        "                                                keep_prob, \n",
        "                                                batch_size)\n",
        "    return train_logits, infer_logits"
      ],
      "execution_count": 0,
      "outputs": []
    },
    {
      "metadata": {
        "id": "RhUD38mWvy3f",
        "colab_type": "code",
        "colab": {}
      },
      "cell_type": "code",
      "source": [
        "# Set the Hyperparameters\n",
        "epochs = 100\n",
        "batch_size = 128\n",
        "rnn_size = 512\n",
        "num_layers = 2\n",
        "encoding_embedding_size = 512\n",
        "decoding_embedding_size = 512\n",
        "learning_rate = 0.005\n",
        "learning_rate_decay = 0.9\n",
        "min_learning_rate = 0.0001\n",
        "keep_probability = 0.75"
      ],
      "execution_count": 0,
      "outputs": []
    },
    {
      "metadata": {
        "id": "l3JnCbgTv3Ny",
        "colab_type": "code",
        "colab": {
          "base_uri": "https://localhost:8080/",
          "height": 700
        },
        "outputId": "4bd7e9d9-490f-4361-f968-f7bd8e2e6f2f"
      },
      "cell_type": "code",
      "source": [
        "# Reset the graph to ensure that it is ready for training\n",
        "tf.reset_default_graph()\n",
        "# Start the session\n",
        "sess = tf.InteractiveSession()\n",
        "    \n",
        "# Load the model inputs    \n",
        "input_data, targets, lr, keep_prob = model_inputs()\n",
        "# Sequence length will be the max line length for each batch\n",
        "sequence_length = tf.placeholder_with_default(max_line_length, None, name='sequence_length')\n",
        "# Find the shape of the input data for sequence_loss\n",
        "input_shape = tf.shape(input_data)\n",
        "\n",
        "# Create the training and inference logits\n",
        "train_logits, inference_logits = seq2seq_model(\n",
        "    tf.reverse(input_data, [-1]), targets, keep_prob, batch_size, sequence_length, len(answers_vocab_to_int), \n",
        "    len(questions_vocab_to_int), encoding_embedding_size, decoding_embedding_size, rnn_size, num_layers, \n",
        "    questions_vocab_to_int)\n",
        "\n",
        "# Create a tensor for the inference logits, needed if loading a checkpoint version of the model\n",
        "tf.identity(inference_logits, 'logits')\n",
        "\n",
        "with tf.name_scope(\"optimization\"):\n",
        "    # Loss function\n",
        "    cost = tf.contrib.seq2seq.sequence_loss(\n",
        "        train_logits,\n",
        "        targets,\n",
        "        tf.ones([input_shape[0], sequence_length]))\n",
        "\n",
        "    # Optimizer\n",
        "    optimizer = tf.train.AdamOptimizer(learning_rate)\n",
        "\n",
        "    # Gradient Clipping\n",
        "    gradients = optimizer.compute_gradients(cost)\n",
        "    capped_gradients = [(tf.clip_by_value(grad, -5., 5.), var) for grad, var in gradients if grad is not None]\n",
        "    train_op = optimizer.apply_gradients(capped_gradients)"
      ],
      "execution_count": 42,
      "outputs": [
        {
          "output_type": "stream",
          "text": [
            "WARNING:tensorflow:From <ipython-input-35-6e81c7f0b55d>:3: BasicLSTMCell.__init__ (from tensorflow.python.ops.rnn_cell_impl) is deprecated and will be removed in a future version.\n",
            "Instructions for updating:\n",
            "This class is deprecated, please use tf.nn.rnn_cell.LSTMCell, which supports all the feature this cell currently has. Please replace the existing code with tf.nn.rnn_cell.LSTMCell(name='basic_lstm_cell').\n",
            "WARNING:tensorflow:At least two cells provided to MultiRNNCell are the same object and will share weights.\n"
          ],
          "name": "stdout"
        },
        {
          "output_type": "error",
          "ename": "AttributeError",
          "evalue": "ignored",
          "traceback": [
            "\u001b[0;31m---------------------------------------------------------------------------\u001b[0m",
            "\u001b[0;31mAttributeError\u001b[0m                            Traceback (most recent call last)",
            "\u001b[0;32m<ipython-input-42-4417ddfe648e>\u001b[0m in \u001b[0;36m<module>\u001b[0;34m()\u001b[0m\n\u001b[1;32m     14\u001b[0m     \u001b[0mtf\u001b[0m\u001b[0;34m.\u001b[0m\u001b[0mreverse\u001b[0m\u001b[0;34m(\u001b[0m\u001b[0minput_data\u001b[0m\u001b[0;34m,\u001b[0m \u001b[0;34m[\u001b[0m\u001b[0;34m-\u001b[0m\u001b[0;36m1\u001b[0m\u001b[0;34m]\u001b[0m\u001b[0;34m)\u001b[0m\u001b[0;34m,\u001b[0m \u001b[0mtargets\u001b[0m\u001b[0;34m,\u001b[0m \u001b[0mkeep_prob\u001b[0m\u001b[0;34m,\u001b[0m \u001b[0mbatch_size\u001b[0m\u001b[0;34m,\u001b[0m \u001b[0msequence_length\u001b[0m\u001b[0;34m,\u001b[0m \u001b[0mlen\u001b[0m\u001b[0;34m(\u001b[0m\u001b[0manswers_vocab_to_int\u001b[0m\u001b[0;34m)\u001b[0m\u001b[0;34m,\u001b[0m\u001b[0;34m\u001b[0m\u001b[0m\n\u001b[1;32m     15\u001b[0m     \u001b[0mlen\u001b[0m\u001b[0;34m(\u001b[0m\u001b[0mquestions_vocab_to_int\u001b[0m\u001b[0;34m)\u001b[0m\u001b[0;34m,\u001b[0m \u001b[0mencoding_embedding_size\u001b[0m\u001b[0;34m,\u001b[0m \u001b[0mdecoding_embedding_size\u001b[0m\u001b[0;34m,\u001b[0m \u001b[0mrnn_size\u001b[0m\u001b[0;34m,\u001b[0m \u001b[0mnum_layers\u001b[0m\u001b[0;34m,\u001b[0m\u001b[0;34m\u001b[0m\u001b[0m\n\u001b[0;32m---> 16\u001b[0;31m     questions_vocab_to_int)\n\u001b[0m\u001b[1;32m     17\u001b[0m \u001b[0;34m\u001b[0m\u001b[0m\n\u001b[1;32m     18\u001b[0m \u001b[0;31m# Create a tensor for the inference logits, needed if loading a checkpoint version of the model\u001b[0m\u001b[0;34m\u001b[0m\u001b[0;34m\u001b[0m\u001b[0m\n",
            "\u001b[0;32m<ipython-input-39-1f9d65be511a>\u001b[0m in \u001b[0;36mseq2seq_model\u001b[0;34m(input_data, target_data, keep_prob, batch_size, sequence_length, answers_vocab_size, questions_vocab_size, enc_embedding_size, dec_embedding_size, rnn_size, num_layers, questions_vocab_to_int)\u001b[0m\n\u001b[1;32m     24\u001b[0m                                                 \u001b[0mquestions_vocab_to_int\u001b[0m\u001b[0;34m,\u001b[0m\u001b[0;34m\u001b[0m\u001b[0m\n\u001b[1;32m     25\u001b[0m                                                 \u001b[0mkeep_prob\u001b[0m\u001b[0;34m,\u001b[0m\u001b[0;34m\u001b[0m\u001b[0m\n\u001b[0;32m---> 26\u001b[0;31m                                                 batch_size)\n\u001b[0m\u001b[1;32m     27\u001b[0m     \u001b[0;32mreturn\u001b[0m \u001b[0mtrain_logits\u001b[0m\u001b[0;34m,\u001b[0m \u001b[0minfer_logits\u001b[0m\u001b[0;34m\u001b[0m\u001b[0m\n",
            "\u001b[0;32m<ipython-input-38-8a775174bf2c>\u001b[0m in \u001b[0;36mdecoding_layer\u001b[0;34m(dec_embed_input, dec_embeddings, encoder_state, vocab_size, sequence_length, rnn_size, num_layers, vocab_to_int, keep_prob, batch_size)\u001b[0m\n\u001b[1;32m     24\u001b[0m                                             \u001b[0moutput_fn\u001b[0m\u001b[0;34m,\u001b[0m\u001b[0;34m\u001b[0m\u001b[0m\n\u001b[1;32m     25\u001b[0m                                             \u001b[0mkeep_prob\u001b[0m\u001b[0;34m,\u001b[0m\u001b[0;34m\u001b[0m\u001b[0m\n\u001b[0;32m---> 26\u001b[0;31m                                             batch_size)\n\u001b[0m\u001b[1;32m     27\u001b[0m         \u001b[0mdecoding_scope\u001b[0m\u001b[0;34m.\u001b[0m\u001b[0mreuse_variables\u001b[0m\u001b[0;34m(\u001b[0m\u001b[0;34m)\u001b[0m\u001b[0;34m\u001b[0m\u001b[0m\n\u001b[1;32m     28\u001b[0m         infer_logits = decoding_layer_infer(encoder_state, \n",
            "\u001b[0;32m<ipython-input-36-ac93394c9513>\u001b[0m in \u001b[0;36mdecoding_layer_train\u001b[0;34m(encoder_state, dec_cell, dec_embed_input, sequence_length, decoding_scope, output_fn, keep_prob, batch_size)\u001b[0m\n\u001b[1;32m      5\u001b[0m     \u001b[0mattention_states\u001b[0m \u001b[0;34m=\u001b[0m \u001b[0mtf\u001b[0m\u001b[0;34m.\u001b[0m\u001b[0mzeros\u001b[0m\u001b[0;34m(\u001b[0m\u001b[0;34m[\u001b[0m\u001b[0mbatch_size\u001b[0m\u001b[0;34m,\u001b[0m \u001b[0;36m1\u001b[0m\u001b[0;34m,\u001b[0m \u001b[0mdec_cell\u001b[0m\u001b[0;34m.\u001b[0m\u001b[0moutput_size\u001b[0m\u001b[0;34m]\u001b[0m\u001b[0;34m)\u001b[0m\u001b[0;34m\u001b[0m\u001b[0m\n\u001b[1;32m      6\u001b[0m \u001b[0;34m\u001b[0m\u001b[0m\n\u001b[0;32m----> 7\u001b[0;31m     att_keys, att_vals, att_score_fn, att_construct_fn =             tf.contrib.seq2seq.prepare_attention(attention_states,\n\u001b[0m\u001b[1;32m      8\u001b[0m                                                  \u001b[0mattention_option\u001b[0m\u001b[0;34m=\u001b[0m\u001b[0;34m\"bahdanau\"\u001b[0m\u001b[0;34m,\u001b[0m\u001b[0;34m\u001b[0m\u001b[0m\n\u001b[1;32m      9\u001b[0m                                                  num_units=dec_cell.output_size)\n",
            "\u001b[0;31mAttributeError\u001b[0m: module 'tensorflow.contrib.seq2seq' has no attribute 'prepare_attention'"
          ]
        }
      ]
    },
    {
      "metadata": {
        "id": "TdQH1jR8v5fN",
        "colab_type": "code",
        "colab": {}
      },
      "cell_type": "code",
      "source": [
        "def pad_sentence_batch(sentence_batch, vocab_to_int):\n",
        "    \"\"\"Pad sentences with <PAD> so that each sentence of a batch has the same length\"\"\"\n",
        "    max_sentence = max([len(sentence) for sentence in sentence_batch])\n",
        "    return [sentence + [vocab_to_int['<PAD>']] * (max_sentence - len(sentence)) for sentence in sentence_batch]"
      ],
      "execution_count": 0,
      "outputs": []
    },
    {
      "metadata": {
        "id": "heBTfsCIv9MN",
        "colab_type": "code",
        "colab": {}
      },
      "cell_type": "code",
      "source": [
        "def batch_data(questions, answers, batch_size):\n",
        "    \"\"\"Batch questions and answers together\"\"\"\n",
        "    for batch_i in range(0, len(questions)//batch_size):\n",
        "        start_i = batch_i * batch_size\n",
        "        questions_batch = questions[start_i:start_i + batch_size]\n",
        "        answers_batch = answers[start_i:start_i + batch_size]\n",
        "        pad_questions_batch = np.array(pad_sentence_batch(questions_batch, questions_vocab_to_int))\n",
        "        pad_answers_batch = np.array(pad_sentence_batch(answers_batch, answers_vocab_to_int))\n",
        "        yield pad_questions_batch, pad_answers_batch"
      ],
      "execution_count": 0,
      "outputs": []
    },
    {
      "metadata": {
        "id": "qENJDGrYwBc1",
        "colab_type": "code",
        "colab": {
          "base_uri": "https://localhost:8080/",
          "height": 51
        },
        "outputId": "bcb1d5e1-6cc3-4278-c1a6-9725ecc5e85d"
      },
      "cell_type": "code",
      "source": [
        "# Validate the training with 10% of the data\n",
        "train_valid_split = int(len(sorted_questions)*0.15)\n",
        "\n",
        "# Split the questions and answers into training and validating data\n",
        "train_questions = sorted_questions[train_valid_split:]\n",
        "train_answers = sorted_answers[train_valid_split:]\n",
        "\n",
        "valid_questions = sorted_questions[:train_valid_split]\n",
        "valid_answers = sorted_answers[:train_valid_split]\n",
        "\n",
        "print(len(train_questions))\n",
        "print(len(valid_questions))\n"
      ],
      "execution_count": 45,
      "outputs": [
        {
          "output_type": "stream",
          "text": [
            "117585\n",
            "20750\n"
          ],
          "name": "stdout"
        }
      ]
    },
    {
      "metadata": {
        "id": "FtT4O2rXwF0Z",
        "colab_type": "code",
        "colab": {
          "base_uri": "https://localhost:8080/",
          "height": 232
        },
        "outputId": "4d8dbf8e-653f-4b71-efa7-85ea753169be"
      },
      "cell_type": "code",
      "source": [
        "display_step = 100 # Check training loss after every 100 batches\n",
        "stop_early = 0 \n",
        "stop = 5 # If the validation loss does decrease in 5 consecutive checks, stop training\n",
        "validation_check = ((len(train_questions))//batch_size//2)-1 # Modulus for checking validation loss\n",
        "total_train_loss = 0 # Record the training loss for each display step\n",
        "summary_valid_loss = [] # Record the validation loss for saving improvements in the model\n",
        "\n",
        "checkpoint = \"best_model.ckpt\" \n",
        "\n",
        "sess.run(tf.global_variables_initializer())\n",
        "\n",
        "for epoch_i in range(1, epochs+1):\n",
        "    for batch_i, (questions_batch, answers_batch) in enumerate(\n",
        "            batch_data(train_questions, train_answers, batch_size)):\n",
        "        start_time = time.time()\n",
        "        _, loss = sess.run(\n",
        "            [train_op, cost],\n",
        "            {input_data: questions_batch,\n",
        "             targets: answers_batch,\n",
        "             lr: learning_rate,\n",
        "             sequence_length: answers_batch.shape[1],\n",
        "             keep_prob: keep_probability})\n",
        "\n",
        "        total_train_loss += loss\n",
        "        end_time = time.time()\n",
        "        batch_time = end_time - start_time\n",
        "\n",
        "        if batch_i % display_step == 0:\n",
        "            print('Epoch {:>3}/{} Batch {:>4}/{} - Loss: {:>6.3f}, Seconds: {:>4.2f}'\n",
        "                  .format(epoch_i,\n",
        "                          epochs, \n",
        "                          batch_i, \n",
        "                          len(train_questions) // batch_size, \n",
        "                          total_train_loss / display_step, \n",
        "                          batch_time*display_step))\n",
        "            total_train_loss = 0\n",
        "\n",
        "        if batch_i % validation_check == 0 and batch_i > 0:\n",
        "            total_valid_loss = 0\n",
        "            start_time = time.time()\n",
        "            for batch_ii, (questions_batch, answers_batch) in \\\n",
        "                    enumerate(batch_data(valid_questions, valid_answers, batch_size)):\n",
        "                valid_loss = sess.run(\n",
        "                cost, {input_data: questions_batch,\n",
        "                       targets: answers_batch,\n",
        "                       lr: learning_rate,\n",
        "                       sequence_length: answers_batch.shape[1],\n",
        "                       keep_prob: 1})\n",
        "                total_valid_loss += valid_loss\n",
        "            end_time = time.time()\n",
        "            batch_time = end_time - start_time\n",
        "            avg_valid_loss = total_valid_loss / (len(valid_questions) / batch_size)\n",
        "            print('Valid Loss: {:>6.3f}, Seconds: {:>5.2f}'.format(avg_valid_loss, batch_time))\n",
        "            \n",
        "            # Reduce learning rate, but not below its minimum value\n",
        "            learning_rate *= learning_rate_decay\n",
        "            if learning_rate < min_learning_rate:\n",
        "                learning_rate = min_learning_rate\n",
        "\n",
        "            summary_valid_loss.append(avg_valid_loss)\n",
        "            if avg_valid_loss <= min(summary_valid_loss):\n",
        "                print('New Record!') \n",
        "                stop_early = 0\n",
        "                saver = tf.train.Saver() \n",
        "                saver.save(sess, checkpoint)\n",
        "\n",
        "            else:\n",
        "                print(\"No Improvement.\")\n",
        "                stop_early += 1\n",
        "                if stop_early == stop:\n",
        "                    break\n",
        "    \n",
        "    if stop_early == stop:\n",
        "        print(\"Stopping Training.\")\n",
        "        break"
      ],
      "execution_count": 46,
      "outputs": [
        {
          "output_type": "error",
          "ename": "NameError",
          "evalue": "ignored",
          "traceback": [
            "\u001b[0;31m---------------------------------------------------------------------------\u001b[0m",
            "\u001b[0;31mNameError\u001b[0m                                 Traceback (most recent call last)",
            "\u001b[0;32m<ipython-input-46-04971c55b340>\u001b[0m in \u001b[0;36m<module>\u001b[0;34m()\u001b[0m\n\u001b[1;32m     15\u001b[0m         \u001b[0mstart_time\u001b[0m \u001b[0;34m=\u001b[0m \u001b[0mtime\u001b[0m\u001b[0;34m.\u001b[0m\u001b[0mtime\u001b[0m\u001b[0;34m(\u001b[0m\u001b[0;34m)\u001b[0m\u001b[0;34m\u001b[0m\u001b[0m\n\u001b[1;32m     16\u001b[0m         _, loss = sess.run(\n\u001b[0;32m---> 17\u001b[0;31m             \u001b[0;34m[\u001b[0m\u001b[0mtrain_op\u001b[0m\u001b[0;34m,\u001b[0m \u001b[0mcost\u001b[0m\u001b[0;34m]\u001b[0m\u001b[0;34m,\u001b[0m\u001b[0;34m\u001b[0m\u001b[0m\n\u001b[0m\u001b[1;32m     18\u001b[0m             {input_data: questions_batch,\n\u001b[1;32m     19\u001b[0m              \u001b[0mtargets\u001b[0m\u001b[0;34m:\u001b[0m \u001b[0manswers_batch\u001b[0m\u001b[0;34m,\u001b[0m\u001b[0;34m\u001b[0m\u001b[0m\n",
            "\u001b[0;31mNameError\u001b[0m: name 'train_op' is not defined"
          ]
        }
      ]
    },
    {
      "metadata": {
        "id": "aWMCR-vCwI3H",
        "colab_type": "code",
        "colab": {}
      },
      "cell_type": "code",
      "source": [
        "def question_to_seq(question, vocab_to_int):\n",
        "    '''Prepare the question for the model'''\n",
        "    \n",
        "    question = clean_text(question)\n",
        "    return [vocab_to_int.get(word, vocab_to_int['<UNK>']) for word in question.split()]"
      ],
      "execution_count": 0,
      "outputs": []
    },
    {
      "metadata": {
        "id": "FO3B6KY2wLcv",
        "colab_type": "code",
        "colab": {
          "base_uri": "https://localhost:8080/",
          "height": 232
        },
        "outputId": "8d768a12-c03c-4749-924e-431bb144f810"
      },
      "cell_type": "code",
      "source": [
        "# Create your own input question\n",
        "#input_question = 'How are you?'\n",
        "\n",
        "# Use a question from the data as your input\n",
        "random = np.random.choice(len(short_questions))\n",
        "input_question = short_questions[random]\n",
        "\n",
        "# Prepare the question\n",
        "input_question = question_to_seq(input_question, questions_vocab_to_int)\n",
        "\n",
        "# Pad the questions until it equals the max_line_length\n",
        "input_question = input_question + [questions_vocab_to_int[\"<PAD>\"]] * (max_line_length - len(input_question))\n",
        "# Add empty questions so the the input_data is the correct shape\n",
        "batch_shell = np.zeros((batch_size, max_line_length))\n",
        "# Set the first question to be out input question\n",
        "batch_shell[0] = input_question    \n",
        "    \n",
        "# Run the model with the input question\n",
        "answer_logits = sess.run(inference_logits, {input_data: batch_shell, \n",
        "                                            keep_prob: 1.0})[0]\n",
        "\n",
        "# Remove the padding from the Question and Answer\n",
        "pad_q = questions_vocab_to_int[\"<PAD>\"]\n",
        "pad_a = answers_vocab_to_int[\"<PAD>\"]\n",
        "\n",
        "print('Question')\n",
        "print('  Word Ids:      {}'.format([i for i in input_question if i != pad_q]))\n",
        "print('  Input Words: {}'.format([questions_int_to_vocab[i] for i in input_question if i != pad_q]))\n",
        "\n",
        "print('\\nAnswer')\n",
        "print('  Word Ids:      {}'.format([i for i in np.argmax(answer_logits, 1) if i != pad_a]))\n",
        "print('  Response Words: {}'.format([answers_int_to_vocab[i] for i in np.argmax(answer_logits, 1) if i != pad_a]))"
      ],
      "execution_count": 48,
      "outputs": [
        {
          "output_type": "error",
          "ename": "NameError",
          "evalue": "ignored",
          "traceback": [
            "\u001b[0;31m---------------------------------------------------------------------------\u001b[0m",
            "\u001b[0;31mNameError\u001b[0m                                 Traceback (most recent call last)",
            "\u001b[0;32m<ipython-input-48-0dec679f9561>\u001b[0m in \u001b[0;36m<module>\u001b[0;34m()\u001b[0m\n\u001b[1;32m     13\u001b[0m \u001b[0;34m\u001b[0m\u001b[0m\n\u001b[1;32m     14\u001b[0m \u001b[0;31m# Run the model with the input question\u001b[0m\u001b[0;34m\u001b[0m\u001b[0;34m\u001b[0m\u001b[0m\n\u001b[0;32m---> 15\u001b[0;31m answer_logits = sess.run(inference_logits, {input_data: batch_shell, \n\u001b[0m\u001b[1;32m     16\u001b[0m                                             keep_prob: 1.0})[0]\n\u001b[1;32m     17\u001b[0m \u001b[0;34m\u001b[0m\u001b[0m\n",
            "\u001b[0;31mNameError\u001b[0m: name 'inference_logits' is not defined"
          ]
        }
      ]
    }
  ]
}